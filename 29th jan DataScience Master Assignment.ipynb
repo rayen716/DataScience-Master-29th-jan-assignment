{
 "cells": [
  {
   "cell_type": "code",
   "execution_count": null,
   "id": "2545c0a7-8f54-4fc7-b281-3ab8a76cbc70",
   "metadata": {},
   "outputs": [],
   "source": [
    "question 1- Who developed python programming language?\n",
    "answer 1- The python programming language developed by Guido van Rossum."
   ]
  },
  {
   "cell_type": "code",
   "execution_count": null,
   "id": "e8cb8fb6-b8e8-490a-9f66-64db74d6f408",
   "metadata": {},
   "outputs": [],
   "source": [
    "question 2- Which type of programming does python support?\n",
    "answer 2- Python is an interpreted programming language, supporting object-oriented, structured, and functional programming."
   ]
  },
  {
   "cell_type": "code",
   "execution_count": null,
   "id": "e509d5ac-73e4-48de-8b13-2657467a1013",
   "metadata": {},
   "outputs": [],
   "source": [
    "question 3- Is python case sensitive when dealing with identifiers?\n",
    "answer3 - Yes, Python is a case-sensitive language, i.e., it treats uppercase and lowercase characters differently. "
   ]
  },
  {
   "cell_type": "code",
   "execution_count": null,
   "id": "99afb671-3a64-40be-8993-7c7bcd7c8261",
   "metadata": {},
   "outputs": [],
   "source": [
    "question 4- What is the correct extension of the python file?\n",
    "answer 4- The extensions for Python files are .py ."
   ]
  },
  {
   "cell_type": "code",
   "execution_count": null,
   "id": "885b2cce-732c-4415-b3b5-d8c0da4da966",
   "metadata": {},
   "outputs": [],
   "source": [
    "question 5- Is python code compiled or interpreted?\n",
    "answer 5- python is an interpreted language and their code is interpreted."
   ]
  },
  {
   "cell_type": "code",
   "execution_count": null,
   "id": "931a8d2c-56e0-4143-968e-8f71defd0c14",
   "metadata": {},
   "outputs": [],
   "source": [
    "question 6- Name a block of code used to define in python language?\n",
    "answer 6- Indentation is used to define a block of code in python."
   ]
  },
  {
   "cell_type": "code",
   "execution_count": null,
   "id": "187de445-dced-4ac5-ba5c-512d07586586",
   "metadata": {},
   "outputs": [],
   "source": [
    "question 7- Name a character used to give single line comment in python?\n",
    "answer 7- We can write a single-line comment by adding a single # \n",
    "character before any statement or line of code.\n"
   ]
  },
  {
   "cell_type": "code",
   "execution_count": null,
   "id": "5b7281a3-437e-4fd2-af62-e388df833900",
   "metadata": {},
   "outputs": [],
   "source": [
    "question 8- Mention function which can help us to find the version of python that we are currently work?\n",
    "answer 8- Using sys. version method.\n",
    "Using python_version() function.\n",
    "Using Python -V command.\n"
   ]
  },
  {
   "cell_type": "code",
   "execution_count": null,
   "id": "939946d5-9d95-4f96-ab5f-f949ad8b6aec",
   "metadata": {},
   "outputs": [],
   "source": [
    "question 9 - Python supports the creation of anonymous functions at runtime using the construct called?\n",
    "answer 9- lambda funciton."
   ]
  },
  {
   "cell_type": "code",
   "execution_count": null,
   "id": "5e9940d7-83d1-47bb-8e73-b0230b5fe459",
   "metadata": {},
   "outputs": [],
   "source": [
    "quesiton 10- What does pip stand for python?\n",
    "answer 10- preferred installer program."
   ]
  },
  {
   "cell_type": "code",
   "execution_count": null,
   "id": "2612bfc5-3890-4694-a208-7ce7658b6fc7",
   "metadata": {},
   "outputs": [],
   "source": [
    "question 11- Mention a few built in functions in python?\n",
    "answer 11- the few bulit-in function in pythin are \n",
    "print( ) function.\n",
    "type( ) function.\n",
    "input( ) function.\n",
    "abs( ) function.\n",
    "pow( ) function.\n",
    "dir( ) function.\n",
    "sorted( ) function.\n",
    "max( ) function."
   ]
  },
  {
   "cell_type": "code",
   "execution_count": null,
   "id": "2288d440-2762-454f-bfec-3fb9febb9571",
   "metadata": {},
   "outputs": [],
   "source": [
    "question 12- What is the maximum possible length of a python identifier?\n",
    "answer 12- The maximum possible length of a python identifier is 79 character."
   ]
  },
  {
   "cell_type": "code",
   "execution_count": null,
   "id": "2d05fede-2fd4-40b4-81de-97c33bbbba4c",
   "metadata": {},
   "outputs": [],
   "source": [
    "question 13- What is benefits of using python?\n",
    "answer 13- Python ranks among the most popular and fastest-growing languages in the world. Python is a powerful, flexible, and easy-to-use language."
   ]
  },
  {
   "cell_type": "code",
   "execution_count": null,
   "id": "c037d05f-2cab-46fc-9628-c743fc4b22bc",
   "metadata": {},
   "outputs": [],
   "source": [
    "question 14- What is memory management in python?\n",
    "answer 14- Memory management in Python involves a private heap containing all Python objects and data structures."
   ]
  },
  {
   "cell_type": "code",
   "execution_count": null,
   "id": "884c999e-d4e9-44eb-937f-5518e2c80265",
   "metadata": {},
   "outputs": [],
   "source": [
    "question 15- How to install python in window and set variable name?\n",
    "answer 15- The complete path of python.exe can be added by:\n",
    "\n",
    "Right-clicking This PC and going to Properties.\n",
    "Clicking on the Advanced system settings in the menu on the left.\n",
    "Clicking on the Environment Variables button o​n the bottom right.\n",
    "In the System variables section, selecting the Path variable and clicking on Edit. The next screen will show all the directories that are currently a part of the PATH variable.\n",
    "Clicking on New and entering Python’s install directory."
   ]
  },
  {
   "cell_type": "code",
   "execution_count": null,
   "id": "4fcb2618-9b68-4442-964f-c2bad8914d1f",
   "metadata": {},
   "outputs": [],
   "source": [
    "question 16- Is indentation required in python?\n",
    "answer 16- Yes,indentation is required in python."
   ]
  }
 ],
 "metadata": {
  "kernelspec": {
   "display_name": "Python 3 (ipykernel)",
   "language": "python",
   "name": "python3"
  },
  "language_info": {
   "codemirror_mode": {
    "name": "ipython",
    "version": 3
   },
   "file_extension": ".py",
   "mimetype": "text/x-python",
   "name": "python",
   "nbconvert_exporter": "python",
   "pygments_lexer": "ipython3",
   "version": "3.10.8"
  }
 },
 "nbformat": 4,
 "nbformat_minor": 5
}
